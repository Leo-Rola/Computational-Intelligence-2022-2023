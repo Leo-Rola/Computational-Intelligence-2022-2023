{
 "cells": [
  {
   "cell_type": "code",
   "execution_count": 1,
   "metadata": {},
   "outputs": [],
   "source": [
    "import logging\n",
    "from collections import namedtuple\n",
    "import random"
   ]
  },
  {
   "cell_type": "code",
   "execution_count": 2,
   "metadata": {},
   "outputs": [],
   "source": [
    "Nimply = namedtuple(\"Nimply\", \"row, num_objects\")"
   ]
  },
  {
   "cell_type": "code",
   "execution_count": 3,
   "metadata": {},
   "outputs": [],
   "source": [
    "AUTOMATIC=False\n",
    "rows=5"
   ]
  },
  {
   "cell_type": "code",
   "execution_count": 4,
   "metadata": {},
   "outputs": [],
   "source": [
    "class Nim:\n",
    "    def __init__(self, num_rows: int, k: int = None) -> None:\n",
    "        self._rows = [i * 2 + 1 for i in range(num_rows)]\n",
    "        self._k = k\n",
    "\n",
    "    def __bool__(self):\n",
    "        return sum(self._rows) > 0\n",
    "\n",
    "    def __str__(self):\n",
    "        return \"<\" + \" \".join(str(_) for _ in self._rows) + \">\"\n",
    "\n",
    "    @property\n",
    "    def rows(self) -> tuple:\n",
    "        return tuple(self._rows)\n",
    "\n",
    "    def nimming(self, ply: Nimply) -> None:\n",
    "        row, num_objects = ply\n",
    "        assert self._rows[row] >= num_objects\n",
    "        assert self._k is None or num_objects <= self._k\n",
    "        self._rows[row] -= num_objects"
   ]
  },
  {
   "cell_type": "code",
   "execution_count": 5,
   "metadata": {},
   "outputs": [],
   "source": [
    "def hardcoded_agent(state: Nim) -> Nimply:\n",
    "    Evaluator=[0]*rows*2\n",
    "    for c in state.rows:\n",
    "        if c!=0:            \n",
    "            Evaluator[c]+=1\n",
    "\n",
    "    if sum(Evaluator[2:])==1: #Final rush: aside one row, only ones left in the others\n",
    "        if Evaluator[1]%2==0:\n",
    "            for r, c in enumerate(state.rows):\n",
    "                if c>1:\n",
    "                    return Nimply(r,c)\n",
    "        else:\n",
    "            for r, c in enumerate(state.rows):\n",
    "                if c>1:\n",
    "                    return Nimply(r,c-1)\n",
    "\n",
    "    if sum(Evaluator)==3:\n",
    "        two=False\n",
    "        objects=0\n",
    "        for i, e in enumerate(Evaluator):\n",
    "            if e==1:\n",
    "                objects=i\n",
    "            if e==2:\n",
    "                two=True\n",
    "        if two:\n",
    "            for r, c in enumerate(state.rows):\n",
    "                if c ==objects:\n",
    "                    return Nimply(r,c)\n",
    "    if sum(Evaluator)==2:\n",
    "        two=False\n",
    "        objects_l=0\n",
    "        objects_h=0\n",
    "        for i, e in enumerate(Evaluator):\n",
    "            if e==1 and not objects_l:\n",
    "                objects_l=i\n",
    "            if e==1 and objects_l:\n",
    "                objects_h=i\n",
    "            if e==2:\n",
    "                two=True\n",
    "        if not two:\n",
    "            for r, c in enumerate(state.rows):\n",
    "                if c ==objects_h:\n",
    "                    return Nimply(r,c-objects_l)\n",
    "    \n",
    "    if sum(Evaluator)==1: #winning move\n",
    "        for r, c in enumerate(state.rows):\n",
    "                if c>0:\n",
    "                    return Nimply(r,c)\n",
    "    mask1=[0]*rows*2\n",
    "    mask1[1]=2\n",
    "    mask1[2]=mask1[3]=1\n",
    "    mask2=[0]*rows*2\n",
    "    mask2[2]=2\n",
    "    mask2[1]=mask2[3]=1\n",
    "    mask3=[0]*rows*2\n",
    "    mask3[3]=2\n",
    "    mask3[1]=mask3[2]=1\n",
    "    if Evaluator==mask1:\n",
    "        for r, c in enumerate(state.rows):\n",
    "            if c==1:\n",
    "                return Nimply(r,c)\n",
    "    if Evaluator==mask2:\n",
    "        for r, c in enumerate(state.rows):\n",
    "            if c==2:\n",
    "                return Nimply(r,c)\n",
    "    if Evaluator==mask3:\n",
    "        for r, c in enumerate(state.rows):\n",
    "            if c==3:\n",
    "                return Nimply(r,c)\n",
    "    if sum(Evaluator[1:4])==2 and sum(Evaluator[4:])==1:\n",
    "        objects_l=0\n",
    "        objects_h=0\n",
    "        for i, e in enumerate(Evaluator):\n",
    "            if e==0 and not objects_l:\n",
    "                objects_l=i\n",
    "            if e==1 and i>=4:\n",
    "                objects_h=i\n",
    "        for r, c in enumerate(state.rows):\n",
    "            if c ==objects_h:\n",
    "                return Nimply(r,c-objects_l)\n",
    "\n",
    "\n",
    "\n",
    "    row = random.choice([r for r, c in enumerate(state.rows) if c > 0])\n",
    "    num_objects = 1\n",
    "    return Nimply(row, num_objects)"
   ]
  },
  {
   "cell_type": "code",
   "execution_count": 6,
   "metadata": {},
   "outputs": [],
   "source": [
    "def dumb_PCI(state: Nim) -> Nimply:\n",
    "    \"\"\"Pick always the minimum(maximum) possible number of the lowest row\"\"\"\n",
    "    possible_moves = [(r, o) for r, c in enumerate(state.rows) for o in range(1, c + 1)]\n",
    "    return Nimply(*max(possible_moves, key=lambda m: (-m[0], -m[1])))"
   ]
  },
  {
   "cell_type": "code",
   "execution_count": 7,
   "metadata": {},
   "outputs": [],
   "source": [
    "def manual(state:Nim)-> Nimply:\n",
    "    while True:\n",
    "        try:\n",
    "            row=int(input(\"Enter the number of row(from 1 up):\"))\n",
    "            if row<=len(state._rows) and row>0 and state._rows[row-1]!=0:\n",
    "                row-=1\n",
    "                break\n",
    "            else:\n",
    "                print(\"No objects in this row. Try again.\")\n",
    "        except ValueError:\n",
    "            print(\"Invalid input. Try again.\")\n",
    "    while True:\n",
    "        try:\n",
    "            num_objects=int(input(\"Enter the number of objects to take:\"))\n",
    "            if num_objects>0 and state._rows[row]-num_objects>=0:\n",
    "                break\n",
    "            else:\n",
    "                print(\"You cannot take this number of objects, be serious. Try again.\")\n",
    "        except ValueError:\n",
    "            print(\"Invalid input. Try again.\")\n",
    "    return Nimply(row,num_objects)"
   ]
  },
  {
   "cell_type": "code",
   "execution_count": 8,
   "metadata": {},
   "outputs": [
    {
     "name": "stderr",
     "output_type": "stream",
     "text": [
      "DEBUG:root:status: Initial board  -> <1 3 5 7 9>\n",
      "DEBUG:root:status: After player 0 -> <1 3 5 7 8>\n"
     ]
    },
    {
     "name": "stdout",
     "output_type": "stream",
     "text": [
      "No objects in this row. Try again.\n"
     ]
    },
    {
     "name": "stderr",
     "output_type": "stream",
     "text": [
      "DEBUG:root:status: After player 1 -> <0 3 5 7 8>\n",
      "DEBUG:root:status: After player 0 -> <0 2 5 7 8>\n",
      "DEBUG:root:status: After player 1 -> <0 2 5 7 4>\n",
      "DEBUG:root:status: After player 0 -> <0 2 5 7 3>\n",
      "DEBUG:root:status: After player 1 -> <0 2 5 0 3>\n",
      "DEBUG:root:status: After player 0 -> <0 2 1 0 3>\n"
     ]
    },
    {
     "name": "stdout",
     "output_type": "stream",
     "text": [
      "You cannot take this number of objects, be serious. Try again.\n",
      "You cannot take this number of objects, be serious. Try again.\n"
     ]
    },
    {
     "name": "stderr",
     "output_type": "stream",
     "text": [
      "DEBUG:root:status: After player 1 -> <0 2 1 0 0>\n",
      "DEBUG:root:status: After player 0 -> <0 1 1 0 0>\n",
      "DEBUG:root:status: After player 1 -> <0 0 1 0 0>\n",
      "DEBUG:root:status: After player 0 -> <0 0 0 0 0>\n",
      "INFO:root:status: Player 0 won!\n"
     ]
    }
   ],
   "source": [
    "logging.getLogger().setLevel(logging.DEBUG)\n",
    "\n",
    "if AUTOMATIC:\n",
    "    strategy = (hardcoded_agent, dumb_PCI)\n",
    "else:\n",
    "    strategy = (hardcoded_agent, manual)\n",
    "\n",
    "nim = Nim(rows)\n",
    "logging.debug(f\"status: Initial board  -> {nim}\")\n",
    "player = 0\n",
    "while nim:\n",
    "    ply = strategy[player](nim)\n",
    "    nim.nimming(ply)\n",
    "    logging.debug(f\"status: After player {player} -> {nim}\")\n",
    "    player = 1 - player\n",
    "winner = 1 - player\n",
    "logging.info(f\"status: Player {winner} won!\")"
   ]
  }
 ],
 "metadata": {
  "kernelspec": {
   "display_name": "Python 3.10.8 64-bit (microsoft store)",
   "language": "python",
   "name": "python3"
  },
  "language_info": {
   "codemirror_mode": {
    "name": "ipython",
    "version": 3
   },
   "file_extension": ".py",
   "mimetype": "text/x-python",
   "name": "python",
   "nbconvert_exporter": "python",
   "pygments_lexer": "ipython3",
   "version": "3.10.8"
  },
  "orig_nbformat": 4,
  "vscode": {
   "interpreter": {
    "hash": "330d21a87249b4d9e4997a13e6007993fe572cfee1642483d1dd9d067e59d049"
   }
  }
 },
 "nbformat": 4,
 "nbformat_minor": 2
}
