{
 "cells": [
  {
   "cell_type": "code",
   "execution_count": 250,
   "metadata": {},
   "outputs": [],
   "source": [
    "#Copyright (c) 2022 Giovanni Squillero\n",
    "#https://github.com/squillero/computational-intelligence\n",
    "#Free for personal or classroom use; see LICENSE.md for details.\n",
    "\n",
    "import random\n",
    "import sys\n",
    "from collections import namedtuple"
   ]
  },
  {
   "cell_type": "code",
   "execution_count": 251,
   "metadata": {},
   "outputs": [],
   "source": [
    "#SETTING THE PARAMETERS OF THE PROBLEM\n",
    "#for each of them we have tried to tune it in order to get the best possible results and these are the optimal value that we found at the end\n",
    "\n",
    "N = 10000\n",
    "\n",
    "POPULATION_SIZE = N          \n",
    "OFFSPRING_SIZE = N*2        \n",
    "\n",
    "NUM_GENERATIONS = 25         \n",
    "\n",
    "TOURNAMENT_SIZE =int(N/2)\n",
    "GENETIC_OPERATOR_RANDOMNESS = 0.3\n",
    "\n",
    "MAX_STASIS=10\n",
    "ARTIFICIAL_MUTATION=50000"
   ]
  },
  {
   "cell_type": "code",
   "execution_count": 252,
   "metadata": {},
   "outputs": [],
   "source": [
    "def problem(N, seed=42):\n",
    "    random.seed(seed)\n",
    "    return [\n",
    "        list(set(random.randint(0, N - 1) for n in range(random.randint(N // 5, N // 2))))\n",
    "        for n in range(random.randint(N, N * 5))\n",
    "    ]"
   ]
  },
  {
   "cell_type": "code",
   "execution_count": 253,
   "metadata": {},
   "outputs": [],
   "source": [
    "GOAL={i for i in range(N)}\n",
    "#print(GOAL)\n",
    "list_of_lists = problem(N)\n",
    "tmp =  {tuple(x) for x in list_of_lists}    # optimization: remove repeated inner list\n",
    "list_of_lists = list(tmp)                   \n",
    "#print(list_of_lists)\n",
    "PROBLEM_SIZE = len(list_of_lists)           "
   ]
  },
  {
   "cell_type": "code",
   "execution_count": 254,
   "metadata": {},
   "outputs": [],
   "source": [
    "Individual = namedtuple(\"Individual\", [\"genome\", \"fitness\"])\n",
    "\n",
    "#converte genome into a singol list\n",
    "def gen2List(genome):\n",
    "    list = []\n",
    "    for i, g in enumerate(genome):\n",
    "        if g:\n",
    "            list += list_of_lists[i]\n",
    "    return list\n",
    "\n",
    "#implementation of the parent selection\n",
    "def tournament(population, tournament_size=TOURNAMENT_SIZE):          \n",
    "    return max(random.choices(population, k=tournament_size), key=lambda i: i.fitness) \n",
    "\n",
    "#implementation of 2 different types of cross_over: \n",
    "# we decided to choose the uniform one the allowed us to obtain best results\n",
    "\n",
    "def one_cut_cross_over(g1, g2):                      \n",
    "    cut = random.randint(0, PROBLEM_SIZE)\n",
    "    return g1[:cut] + g2[cut:]\n",
    "\n",
    "def uniform_cross_over(g1, g2):\n",
    "    new_genoma = []\n",
    "    for i in range(PROBLEM_SIZE):\n",
    "        if i%2:\n",
    "            new_genoma.append(g1[i])\n",
    "        else:\n",
    "            new_genoma.append(g2[i])\n",
    "    return tuple(new_genoma)\n",
    "\n",
    "#implementation of 2 different types of mutation: \n",
    "# in the initial part of the algorithm is preferable to do more exploration than exploitation and only at the end\n",
    "# of the algorithm reverse this trend for this reason in the first part we use the normal one mutation function\n",
    "# while at the end when we have a situation of steady state we focus only on the best individual and try to\n",
    "# modify it so we use the artificial_mutation function\n",
    "\n",
    "def mutation(g):                                \n",
    "    point = random.randint(0, PROBLEM_SIZE - 1)      \n",
    "    return g[:point] + (1 - g[point],) + g[point + 1 :]\n",
    "\n",
    "def artificial_mutation(g):\n",
    "    N=sum(g)\n",
    "    turn_off = random.randint(1, N)\n",
    "    count=0\n",
    "    list_g=list(g)\n",
    "    for i,el in enumerate(list_g):\n",
    "        if el:\n",
    "            count+=1\n",
    "            if count==turn_off:\n",
    "                list_g[i]=0\n",
    "    return mutation(tuple(list_g))\n",
    "\n",
    "#implementation of the fitness: \n",
    "#our fitness consists of a tuple, the first term indicates how far the current genome is from the solution \n",
    "#while the second is a regularization term that favors genomes with a smaller number of repetitions\n",
    "\n",
    "def compute_fitness(genome):                                \n",
    "    list = gen2List(genome)\n",
    "    repetitions = len(list) - len(set(list))\n",
    "    return N - len(GOAL - set(list)) , -repetitions\n",
    "\n",
    "def check_goal(genoma):\n",
    "    if set(gen2List(genoma)) == GOAL:\n",
    "        return True\n",
    "    else:\n",
    "        return False"
   ]
  },
  {
   "cell_type": "markdown",
   "metadata": {},
   "source": [
    "INITIAL POPULATION"
   ]
  },
  {
   "cell_type": "code",
   "execution_count": 255,
   "metadata": {},
   "outputs": [],
   "source": [
    "population = list()\n",
    "\n",
    "# for genome in [tuple([1 if random.random() < 0.3 else 0 for _ in range(PROBLEM_SIZE)]) for _ in range(POPULATION_SIZE)]:\n",
    "#     population.append(Individual(genome, compute_fitness(genome))) \n",
    "    \n",
    "for genome in [tuple(0 for _ in range(PROBLEM_SIZE)) for _ in range(POPULATION_SIZE)]:\n",
    "    genome = mutation(genome)     #the initial genomes of the population are created by setting randomly only one element to 1 \n",
    "    population.append(Individual(genome, compute_fitness(genome))) \n",
    "\n",
    "#print(population)"
   ]
  },
  {
   "cell_type": "markdown",
   "metadata": {},
   "source": [
    "EVOLUTION"
   ]
  },
  {
   "cell_type": "code",
   "execution_count": 256,
   "metadata": {},
   "outputs": [
    {
     "name": "stdout",
     "output_type": "stream",
     "text": [
      "conv_fit (10000, -37789) found at 10+0 with N : 10000 and w : 47789\n"
     ]
    }
   ],
   "source": [
    "best_fit = sys.float_info.min, sys.float_info.min\n",
    "stasis=0\n",
    "for g in range(NUM_GENERATIONS):\n",
    "    offspring = list()\n",
    "    for i in range(OFFSPRING_SIZE):\n",
    "        if random.random() < GENETIC_OPERATOR_RANDOMNESS:                         \n",
    "            p = tournament(population)                  \n",
    "            o = mutation(p.genome)                    \n",
    "        else:                                          \n",
    "            p1 = tournament(population)                 \n",
    "            p2 = tournament(population)\n",
    "            o = uniform_cross_over(p1.genome, p2.genome)            \n",
    "        f = compute_fitness(o)                                                          \n",
    "        offspring.append(Individual(o, f))                 \n",
    "    population += offspring      \n",
    "    population = sorted(population, key=lambda i: i[1], reverse=True)[:POPULATION_SIZE]\n",
    "   \n",
    "    #steady state situation => we change a bit only the best individual\n",
    "    stasis+=1\n",
    "    if stasis>MAX_STASIS:\n",
    "        for i in range(ARTIFICIAL_MUTATION):\n",
    "            o=artificial_mutation(tuple(best_individual.genome))\n",
    "            f = compute_fitness(o)\n",
    "            frankenstein=Individual(o,f)\n",
    "            if best_fit < frankenstein[1] and check_goal(frankenstein[0]):\n",
    "                best_individual=Individual(frankenstein[0], frankenstein[1])\n",
    "                best_fit = tuple(frankenstein[1])\n",
    "                w = len(gen2List(frankenstein[0]))\n",
    "                gen_a=i+1\n",
    "        break\n",
    "    \n",
    "    #checking for the best individual \n",
    "    if best_fit < population[0][1] and check_goal(population[0][0]):\n",
    "        stasis=0\n",
    "        best_individual=Individual(population[0][0],population[0][1])\n",
    "        best_fit = tuple(population[0][1])\n",
    "        w = len(gen2List(population[0][0]))\n",
    "        gen = g\n",
    "        gen_a=0\n",
    "        \n",
    "print(f\"conv_fit {best_fit} found at {gen}+{gen_a} with N : {N} and w : {w}\")"
   ]
  }
 ],
 "metadata": {
  "kernelspec": {
   "display_name": "Python 3.10.7 64-bit",
   "language": "python",
   "name": "python3"
  },
  "language_info": {
   "codemirror_mode": {
    "name": "ipython",
    "version": 3
   },
   "file_extension": ".py",
   "mimetype": "text/x-python",
   "name": "python",
   "nbconvert_exporter": "python",
   "pygments_lexer": "ipython3",
   "version": "3.10.7"
  },
  "orig_nbformat": 4,
  "vscode": {
   "interpreter": {
    "hash": "a9cff5a362bc38ef45d817ae74b1af54d6a076e3d773891282bce078b815ba34"
   }
  }
 },
 "nbformat": 4,
 "nbformat_minor": 2
}
