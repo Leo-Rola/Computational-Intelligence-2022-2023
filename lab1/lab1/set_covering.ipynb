{
 "cells": [
  {
   "cell_type": "code",
   "execution_count": 67,
   "metadata": {},
   "outputs": [],
   "source": [
    "import random\n",
    "import logging\n",
    "import sys\n",
    "import numpy as np\n",
    "from typing import Callable\n",
    "import heapq\n",
    "from collections import Counter\n",
    "logging.basicConfig(format=\"%(message)s\", level=logging.INFO)"
   ]
  },
  {
   "cell_type": "code",
   "execution_count": 68,
   "metadata": {},
   "outputs": [],
   "source": [
    "N=20\n",
    "MIN_NUMBER = sys.float_info.min\n",
    "#print(MIN_NUMBER)"
   ]
  },
  {
   "cell_type": "code",
   "execution_count": 69,
   "metadata": {},
   "outputs": [],
   "source": [
    "# Copyright © 2022 Giovanni Squillero <squillero@polito.it>\n",
    "# https://github.com/squillero/computational-intelligence\n",
    "# Free for personal or classroom use; see 'LICENSE.md' for details.\n",
    "\n",
    "\n",
    "class PriorityQueue:\n",
    "    \"\"\"A basic Priority Queue with simple performance optimizations\"\"\"\n",
    "\n",
    "    def __init__(self):\n",
    "        self._data_heap = list()\n",
    "        self._data_set = set()\n",
    "\n",
    "    def __bool__(self):\n",
    "        return bool(self._data_set)\n",
    "\n",
    "    def __contains__(self, item):\n",
    "        return item in self._data_set\n",
    "\n",
    "    def push(self, item, p=None):\n",
    "        assert item not in self, f\"Duplicated element\"\n",
    "        if p is None:\n",
    "            p = len(self._data_set)\n",
    "        self._data_set.add(item)\n",
    "        heapq.heappush(self._data_heap, (p, item))\n",
    "\n",
    "    def pop(self):\n",
    "        p, item = heapq.heappop(self._data_heap)\n",
    "        self._data_set.remove(item)\n",
    "        return item"
   ]
  },
  {
   "cell_type": "code",
   "execution_count": 70,
   "metadata": {},
   "outputs": [],
   "source": [
    "def problem(N, seed=42):\n",
    "    random.seed(seed)\n",
    "    return [\n",
    "        list(set(random.randint(0, N - 1) for n in range(random.randint(N // 5, N // 2))))\n",
    "        for n in range(random.randint(N, N * 5))\n",
    "    ]"
   ]
  },
  {
   "cell_type": "code",
   "execution_count": 71,
   "metadata": {},
   "outputs": [
    {
     "name": "stdout",
     "output_type": "stream",
     "text": [
      "{0, 1, 2, 3, 4, 5, 6, 7, 8, 9, 10, 11, 12, 13, 14, 15, 16, 17, 18, 19}\n",
      "[[8, 4, 7], [0, 1, 2, 3, 6, 13, 17, 18], [0, 6, 16, 17, 19], [0, 5, 7, 8, 13, 14, 17, 18], [2, 3, 4, 6, 8, 10], [1, 3, 8, 11, 14, 19], [2, 3, 9, 11, 12, 17, 18, 19], [1, 2, 9, 7], [3, 5, 6, 7, 8, 11, 12, 14], [2, 5, 7, 8, 12, 14, 17, 19], [17, 10, 1, 7], [2, 6, 8, 10, 12, 15, 18], [4, 7, 8, 14, 17, 18], [4, 7, 11, 12, 15, 16, 18], [1, 3, 4, 5], [2, 8, 12, 13, 14, 16, 17, 19], [0, 3, 5, 8, 9, 10, 13, 14, 17], [8, 16, 5], [16, 9, 19, 6], [0, 5, 11, 16, 17], [0, 1, 3, 7, 9, 10, 11, 15], [18, 2, 15], [4, 5, 8, 13, 15, 16, 17, 19], [6, 9, 11, 12, 17], [2, 3, 7, 10, 14, 16], [17, 18, 7], [0, 1, 2, 7], [16, 10, 2, 7], [4, 6, 15, 17, 18], [3, 6, 7, 13, 15], [1, 3, 13, 14], [3, 6, 7, 10, 14, 17], [5, 7, 8, 13, 14], [0, 1, 2, 3, 5, 7, 14, 17]]\n",
      "34\n"
     ]
    }
   ],
   "source": [
    "GOAL={i for i in range(N)}\n",
    "print(GOAL)\n",
    "list_of_lists=problem(N)\n",
    "print(list_of_lists)\n",
    "N_of_lists=len(list_of_lists)\n",
    "print(len(list_of_lists))\n"
   ]
  },
  {
   "cell_type": "code",
   "execution_count": 72,
   "metadata": {},
   "outputs": [],
   "source": [
    "def concat_list_of_lists(state):\n",
    "    c_list = []\n",
    "    for n in state:\n",
    "        c_list += list_of_lists[n]\n",
    "    return c_list\n",
    "\n",
    "def print_lists(state):\n",
    "    for n in state:\n",
    "        print(\"List number: \",n, \" with elements \", list_of_lists[n])\n",
    "        "
   ]
  },
  {
   "cell_type": "code",
   "execution_count": 73,
   "metadata": {},
   "outputs": [],
   "source": [
    "def goal_test(state):\n",
    "    if set(concat_list_of_lists(state)) == GOAL:\n",
    "        return True\n",
    "    return False"
   ]
  },
  {
   "cell_type": "code",
   "execution_count": 74,
   "metadata": {},
   "outputs": [],
   "source": [
    "def result(state):\n",
    "    new_states=[]\n",
    "    for n in range(state[len(state)-1]+1, len(list_of_lists)):\n",
    "        N=(n,)\n",
    "        new_state=state+N\n",
    "        new_states.append(new_state)\n",
    "    return new_states\n",
    "\n",
    "#state=(23,)\n",
    "#print(action(state))"
   ]
  },
  {
   "cell_type": "code",
   "execution_count": 75,
   "metadata": {},
   "outputs": [],
   "source": [
    "def calculate_cost(state):\n",
    "    c_list=concat_list_of_lists(state)\n",
    "    repetitions=len(c_list)-len(set(c_list))\n",
    "    if repetitions==0:\n",
    "        repetitions=MIN_NUMBER\n",
    "    normalized_cost=repetitions/len(c_list)\n",
    "    return normalized_cost\n",
    "    "
   ]
  },
  {
   "cell_type": "code",
   "execution_count": 76,
   "metadata": {},
   "outputs": [],
   "source": [
    "def search(\n",
    "    goal_test: Callable,\n",
    "    state_cost: dict,\n",
    "    priority_function: Callable,\n",
    "    calculate_cost: Callable,\n",
    "):  \n",
    "    #initialize collections\n",
    "    frontier = PriorityQueue()\n",
    "    state_cost.clear()\n",
    "    #keeping track of the iterations/nodes\n",
    "    n=1\n",
    "    N_nodes=len(list_of_lists)\n",
    "    #INITIAL_STATE\n",
    "    state = (0,)\n",
    "    state_cost[hash(state)] = calculate_cost(state)\n",
    "    for s in range(1,len(list_of_lists)):\n",
    "        S=(s,)\n",
    "        state_cost[hash(S)] = calculate_cost(S)\n",
    "        #print(S)\n",
    "        #print(state_cost[hash(S)])\n",
    "        frontier.push(S,p=priority_function(S))\n",
    "    #print(state)\n",
    "    #print(state_cost[hash(state)])\n",
    "        \n",
    "    #BEGIN OF THE LOOP\n",
    "    while state is not None and not goal_test(state):\n",
    "        n+=1\n",
    "        new_states = result(state)\n",
    "        for new_state in new_states:\n",
    "            if hash(new_state) not in state_cost and new_state not in frontier:\n",
    "                state_cost[hash(new_state)] = calculate_cost(new_state) \n",
    "                frontier.push(new_state, p=priority_function(new_state))\n",
    "                N_nodes+=1\n",
    "                #logging.debug(f\"Added new node to frontier (cost={state_cost[hash(new_state)]})\")\n",
    "        if frontier:\n",
    "            state = frontier.pop()\n",
    "        else:\n",
    "            state = None\n",
    "    \n",
    "    #OUTPUT       \n",
    "    if state is not None:\n",
    "        c_list=concat_list_of_lists(state)\n",
    "        repetitions=len(c_list)-len(set(c_list))\n",
    "        logging.info(f\"Found a solution for N={N:,} with {n:,} processed states, with {N_nodes:,} nodes added in the frontier and with {repetitions:,} repetitions.\")\n",
    "        print(\"The lists are:\")\n",
    "        print_lists(state)\n",
    "    else:\n",
    "        logging.info(f\"No solution found\")\n",
    "    "
   ]
  },
  {
   "cell_type": "code",
   "execution_count": 77,
   "metadata": {},
   "outputs": [
    {
     "name": "stderr",
     "output_type": "stream",
     "text": [
      "Found a solution for N=20 with 1,350 processed states, with 10,584 nodes added in the frontier and with 3 repetitions.\n"
     ]
    },
    {
     "name": "stdout",
     "output_type": "stream",
     "text": [
      "The lists are:\n",
      "List number:  0  with elements  [8, 4, 7]\n",
      "List number:  11  with elements  [2, 6, 8, 10, 12, 15, 18]\n",
      "List number:  18  with elements  [16, 9, 19, 6]\n",
      "List number:  19  with elements  [0, 5, 11, 16, 17]\n",
      "List number:  30  with elements  [1, 3, 13, 14]\n"
     ]
    }
   ],
   "source": [
    "\"\"\"\n",
    "#frontier=[[0,6],[0,6,9],[2,3],[9,8],[5,1],[5]]\n",
    "#state=[0]\n",
    "#frontier=[[1],[2],[3],[4]]\n",
    "#state=[1]\n",
    "#frontier=[[2],[3],[4],[0, 1], [0, 2], [0, 3], [0, 4]]\n",
    "#state=[2]\n",
    "#frontier=[[3],[4],[0, 1], [0, 2], [0, 3], [0, 4],[1, 2], [1, 3], [1, 4]]\n",
    "#state=[3]\n",
    "#frontier=[[4],[0, 1], [0, 2], [0, 3], [0, 4],[1, 2], [1, 3], [1, 4],[2, 3], [2, 4]]\n",
    "#state=[4]\n",
    "#frontier=[[0, 1], [0, 2], [0, 3], [0, 4],[1, 2], [1, 3], [1, 4],[2, 3], [2, 4],[3, 4]]\n",
    "#state=[0,1]\n",
    "#frontier=[[0, 2], [0, 3], [0, 4],[1, 2], [1, 3], [1, 4],[2, 3], [2, 4],[3, 4]]\n",
    "\n",
    "#new_states=action(state)\n",
    "#print(new_states)\n",
    "\"\"\"\n",
    "\"\"\"\n",
    "state=[8,9,11]\n",
    "print(goal_test(state))\n",
    "print(calculate_cost(state))\n",
    "\"\"\"\n",
    "state_cost = dict()\n",
    "\n",
    "search(\n",
    "    goal_test=goal_test,\n",
    "    state_cost=state_cost,\n",
    "    priority_function=lambda s: state_cost[hash(s)],\n",
    "    calculate_cost=calculate_cost,\n",
    ")\n"
   ]
  }
 ],
 "metadata": {
  "kernelspec": {
   "display_name": "Python 3.10.8 64-bit (microsoft store)",
   "language": "python",
   "name": "python3"
  },
  "language_info": {
   "codemirror_mode": {
    "name": "ipython",
    "version": 3
   },
   "file_extension": ".py",
   "mimetype": "text/x-python",
   "name": "python",
   "nbconvert_exporter": "python",
   "pygments_lexer": "ipython3",
   "version": "3.10.8"
  },
  "orig_nbformat": 4,
  "vscode": {
   "interpreter": {
    "hash": "330d21a87249b4d9e4997a13e6007993fe572cfee1642483d1dd9d067e59d049"
   }
  }
 },
 "nbformat": 4,
 "nbformat_minor": 2
}
